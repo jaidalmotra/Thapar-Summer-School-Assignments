{
  "cells": [
    {
      "cell_type": "markdown",
      "metadata": {
        "id": "view-in-github",
        "colab_type": "text"
      },
      "source": [
        "<a href=\"https://colab.research.google.com/github/jaidalmotra/Thapar-Summer-School-Assignments/blob/main/Assignment_1.ipynb\" target=\"_parent\"><img src=\"https://colab.research.google.com/assets/colab-badge.svg\" alt=\"Open In Colab\"/></a>"
      ]
    },
    {
      "cell_type": "markdown",
      "source": [
        "Q1. L is a list defined as L= [11, 12, 13, 14]."
      ],
      "metadata": {
        "id": "1ZlFqW4iC0xI"
      }
    },
    {
      "cell_type": "markdown",
      "source": [
        "(i) WAP to add 50 and 60 to L."
      ],
      "metadata": {
        "id": "YGY2XCcQDAsN"
      }
    },
    {
      "cell_type": "code",
      "source": [
        "L=[11,12,13,14]\n",
        "L.append(50)\n",
        "L.append(60)\n",
        "L"
      ],
      "metadata": {
        "id": "ebC8VqdCC_WK",
        "outputId": "006a4a93-1faa-4913-e4e4-3102ee135ffd",
        "colab": {
          "base_uri": "https://localhost:8080/"
        }
      },
      "execution_count": null,
      "outputs": [
        {
          "output_type": "execute_result",
          "data": {
            "text/plain": [
              "[11, 12, 13, 14, 50, 60]"
            ]
          },
          "metadata": {},
          "execution_count": 3
        }
      ]
    },
    {
      "cell_type": "markdown",
      "source": [
        "(ii) WAP to remove 11 and 13 from L"
      ],
      "metadata": {
        "id": "mM6aHrdxRoC1"
      }
    },
    {
      "cell_type": "code",
      "source": [
        "L=[11,12,13,14]\n",
        "del L[0]\n",
        "del L[2]\n",
        "L"
      ],
      "metadata": {
        "id": "1aLrFEzLRr-3",
        "outputId": "928436fa-5d1b-4307-915e-14aea2e7f20a",
        "colab": {
          "base_uri": "https://localhost:8080/"
        }
      },
      "execution_count": null,
      "outputs": [
        {
          "output_type": "execute_result",
          "data": {
            "text/plain": [
              "[12, 13]"
            ]
          },
          "metadata": {},
          "execution_count": 5
        }
      ]
    },
    {
      "cell_type": "markdown",
      "source": [
        "(iii) WAP to sort L in ascending order."
      ],
      "metadata": {
        "id": "jo6KE8deSTEI"
      }
    },
    {
      "cell_type": "code",
      "source": [
        "L=[11,12,13,14]\n",
        "L.sort()\n",
        "L"
      ],
      "metadata": {
        "colab": {
          "base_uri": "https://localhost:8080/"
        },
        "id": "dkMxPR9HSXuZ",
        "outputId": "d09134bf-dd72-4eba-cf35-54b642d5ec18"
      },
      "execution_count": null,
      "outputs": [
        {
          "output_type": "execute_result",
          "data": {
            "text/plain": [
              "[11, 12, 13, 14]"
            ]
          },
          "metadata": {},
          "execution_count": 8
        }
      ]
    },
    {
      "cell_type": "markdown",
      "source": [
        "(iv) WAP to sort L in descending order."
      ],
      "metadata": {
        "id": "RZgJcnVfSYm3"
      }
    },
    {
      "cell_type": "code",
      "source": [
        "L=[11,12,13,14]\n",
        "L.sort(reverse=True)\n",
        "L"
      ],
      "metadata": {
        "id": "kwwNc-miSbAw",
        "outputId": "90246f68-2412-4aea-f747-02bfc73a6d72",
        "colab": {
          "base_uri": "https://localhost:8080/"
        }
      },
      "execution_count": null,
      "outputs": [
        {
          "output_type": "execute_result",
          "data": {
            "text/plain": [
              "[14, 13, 12, 11]"
            ]
          },
          "metadata": {},
          "execution_count": 9
        }
      ]
    },
    {
      "cell_type": "markdown",
      "source": [
        "(v) WAP to search for 13 in L."
      ],
      "metadata": {
        "id": "t-IvKvHLSbYi"
      }
    },
    {
      "cell_type": "code",
      "source": [
        "L=[11,12,13,14]\n",
        "if (13 in L) == True:\n",
        "\tprint (\"Present\")\n",
        "else:\n",
        "\tprint (\"Not Present\")\n"
      ],
      "metadata": {
        "id": "zeexbgVoSgP2",
        "outputId": "b8b4ab53-3a1c-43fb-99c3-ae7a000a4a4e",
        "colab": {
          "base_uri": "https://localhost:8080/"
        }
      },
      "execution_count": null,
      "outputs": [
        {
          "output_type": "stream",
          "name": "stdout",
          "text": [
            "Present\n"
          ]
        }
      ]
    },
    {
      "cell_type": "markdown",
      "source": [
        "(vi) WAP to count the number of elements present in L"
      ],
      "metadata": {
        "id": "jiBiPg9KSggz"
      }
    },
    {
      "cell_type": "code",
      "source": [
        "L=[11,12,13,14]\n",
        "s=len(L)\n",
        "s"
      ],
      "metadata": {
        "id": "zBWfK2-KSnIr",
        "outputId": "28af1c24-3774-4383-c903-9832fa47a973",
        "colab": {
          "base_uri": "https://localhost:8080/"
        }
      },
      "execution_count": null,
      "outputs": [
        {
          "output_type": "execute_result",
          "data": {
            "text/plain": [
              "4"
            ]
          },
          "metadata": {},
          "execution_count": 13
        }
      ]
    },
    {
      "cell_type": "markdown",
      "source": [
        "(vii) WAP to sum all the elements in L"
      ],
      "metadata": {
        "id": "74f4uKSvSnqC"
      }
    },
    {
      "cell_type": "code",
      "source": [
        "L=[11,12,13,14]\n",
        "s=sum(L)\n",
        "s"
      ],
      "metadata": {
        "colab": {
          "base_uri": "https://localhost:8080/"
        },
        "id": "TyZA-uBrSqx0",
        "outputId": "f6c89489-055d-405d-eec9-bdf6ec0dcc77"
      },
      "execution_count": null,
      "outputs": [
        {
          "output_type": "execute_result",
          "data": {
            "text/plain": [
              "50"
            ]
          },
          "metadata": {},
          "execution_count": 12
        }
      ]
    },
    {
      "cell_type": "markdown",
      "source": [
        "(viii) WAP to sum all ODD numbers in L."
      ],
      "metadata": {
        "id": "arm7a7aLSrDv"
      }
    },
    {
      "cell_type": "code",
      "source": [
        "L= [11, 12, 13, 14]\n",
        "s=0\n",
        "for i in range(len(L)):\n",
        "  if L[i] %2 !=0:\n",
        "    s=s+L[i]\n",
        "s"
      ],
      "metadata": {
        "colab": {
          "base_uri": "https://localhost:8080/"
        },
        "id": "uTtX2y5rSud8",
        "outputId": "2733e954-b99a-436f-c92f-04d6316d88f9"
      },
      "execution_count": null,
      "outputs": [
        {
          "output_type": "execute_result",
          "data": {
            "text/plain": [
              "24"
            ]
          },
          "metadata": {},
          "execution_count": 16
        }
      ]
    },
    {
      "cell_type": "markdown",
      "source": [
        "(ix) WAP to sum all EVEN numbers in L"
      ],
      "metadata": {
        "id": "K0c2Y9WgSuts"
      }
    },
    {
      "cell_type": "code",
      "source": [
        "L= [11, 12, 13, 14]\n",
        "s=0\n",
        "for i in range(len(L)):\n",
        "  if L[i]%2==0:\n",
        "    s=s+L[i]\n",
        "s"
      ],
      "metadata": {
        "outputId": "3c7dc7f6-1f8d-4a2d-dd16-9b3804b633f4",
        "colab": {
          "base_uri": "https://localhost:8080/"
        },
        "id": "1TiaQs_nk4wz"
      },
      "execution_count": null,
      "outputs": [
        {
          "output_type": "execute_result",
          "data": {
            "text/plain": [
              "26"
            ]
          },
          "metadata": {},
          "execution_count": 17
        }
      ]
    },
    {
      "cell_type": "markdown",
      "source": [
        "(x) WAP to sum all PRIME numbers in L"
      ],
      "metadata": {
        "id": "wziiiKFgSyZj"
      }
    },
    {
      "cell_type": "code",
      "source": [
        "L= [11, 12, 13, 14]\n",
        "s=0\n",
        "for i in range(len(L)):\n",
        "  t=L[i]\n",
        "  c=0;\n",
        "  for i in range(1,L[i]):\n",
        "    if t%i==0:\n",
        "      c=c+1\n",
        "  if c==1:\n",
        "    s=s+t\n",
        "s"
      ],
      "metadata": {
        "id": "6wBGW_GPS2KX",
        "outputId": "1a71fbc3-0de5-4a56-b894-19bd6c50b2cb",
        "colab": {
          "base_uri": "https://localhost:8080/"
        }
      },
      "execution_count": null,
      "outputs": [
        {
          "output_type": "execute_result",
          "data": {
            "text/plain": [
              "24"
            ]
          },
          "metadata": {},
          "execution_count": 21
        }
      ]
    },
    {
      "cell_type": "markdown",
      "source": [
        "(xi) WAP to clear all the elements in L"
      ],
      "metadata": {
        "id": "-5WgjUk3S2gW"
      }
    },
    {
      "cell_type": "code",
      "source": [
        "L=[11,12,13,14]\n",
        "L.clear()\n",
        "L"
      ],
      "metadata": {
        "id": "AiuMmmB-S6Zb",
        "outputId": "e85ff7fe-a95d-4a0e-f556-2d2ab7b53021",
        "colab": {
          "base_uri": "https://localhost:8080/"
        }
      },
      "execution_count": null,
      "outputs": [
        {
          "output_type": "execute_result",
          "data": {
            "text/plain": [
              "[]"
            ]
          },
          "metadata": {},
          "execution_count": 22
        }
      ]
    },
    {
      "cell_type": "markdown",
      "source": [
        "(xii) WAP to delete L."
      ],
      "metadata": {
        "id": "odg10JlnS6rN"
      }
    },
    {
      "cell_type": "code",
      "source": [
        "L=[11,12,13,14]\n",
        "del L"
      ],
      "metadata": {
        "id": "5R7X64jcS9RU"
      },
      "execution_count": null,
      "outputs": []
    },
    {
      "cell_type": "markdown",
      "source": [
        "Q2. D is a dictionary defined as D= {1:5.6, 2:7.8, 3:6.6, 4:8.7, 5:7.7}"
      ],
      "metadata": {
        "id": "hrR2Jd51S9hd"
      }
    },
    {
      "cell_type": "markdown",
      "source": [
        "(i) WAP to add new entry in D; key=8 and value is 8.8"
      ],
      "metadata": {
        "id": "RSi9E2eyS-Aa"
      }
    },
    {
      "cell_type": "code",
      "source": [
        " D= {1:5.6, 2:7.8, 3:6.6, 4:8.7, 5:7.7}\n",
        " D[8]=8.8\n",
        " D"
      ],
      "metadata": {
        "id": "cWXs77THTFMK",
        "outputId": "8051fc63-788f-442f-8173-b55648c2872e",
        "colab": {
          "base_uri": "https://localhost:8080/"
        }
      },
      "execution_count": null,
      "outputs": [
        {
          "output_type": "execute_result",
          "data": {
            "text/plain": [
              "{1: 5.6, 2: 7.8, 3: 6.6, 4: 8.7, 5: 7.7, 8: 8.8}"
            ]
          },
          "metadata": {},
          "execution_count": 28
        }
      ]
    },
    {
      "cell_type": "markdown",
      "source": [
        "(ii) WAP to remove key=2."
      ],
      "metadata": {
        "id": "2MsMO8KbTFox"
      }
    },
    {
      "cell_type": "code",
      "source": [
        "D= {1:5.6, 2:7.8, 3:6.6, 4:8.7, 5:7.7}\n",
        "del D[2]\n",
        "D"
      ],
      "metadata": {
        "id": "fRSaoEAMTIbA",
        "outputId": "8891ea38-8b76-4f82-8e88-f1cd8c8ed1b5",
        "colab": {
          "base_uri": "https://localhost:8080/"
        }
      },
      "execution_count": null,
      "outputs": [
        {
          "output_type": "execute_result",
          "data": {
            "text/plain": [
              "{1: 5.6, 3: 6.6, 4: 8.7, 5: 7.7}"
            ]
          },
          "metadata": {},
          "execution_count": 32
        }
      ]
    },
    {
      "cell_type": "markdown",
      "source": [
        "(iii) WAP to check weather 6 key is present in D."
      ],
      "metadata": {
        "id": "QvuZK4HhTItP"
      }
    },
    {
      "cell_type": "code",
      "source": [
        "D= {1:5.6, 2:7.8, 3:6.6, 4:8.7, 5:7.7}\n",
        "if 6 in D==True:\n",
        "  print(\"Present\")\n",
        "else:\n",
        "  print(\"Not Present\")"
      ],
      "metadata": {
        "id": "0yQkDnrjTMJM",
        "outputId": "6e257f1d-9b95-4dc6-d64c-873236bc9036",
        "colab": {
          "base_uri": "https://localhost:8080/"
        }
      },
      "execution_count": null,
      "outputs": [
        {
          "output_type": "stream",
          "name": "stdout",
          "text": [
            "Not Present\n"
          ]
        }
      ]
    },
    {
      "cell_type": "markdown",
      "source": [
        "(iv) WAP to count the number of elements present in D."
      ],
      "metadata": {
        "id": "OvbIMhycTMkg"
      }
    },
    {
      "cell_type": "code",
      "source": [
        "D= {1:5.6, 2:7.8, 3:6.6, 4:8.7, 5:7.7}\n",
        "print(len(D))"
      ],
      "metadata": {
        "id": "xp5CY-9zTPiZ",
        "outputId": "0338eb22-efc4-4e3f-c60c-ef9595a32423",
        "colab": {
          "base_uri": "https://localhost:8080/"
        }
      },
      "execution_count": null,
      "outputs": [
        {
          "output_type": "stream",
          "name": "stdout",
          "text": [
            "5\n"
          ]
        }
      ]
    },
    {
      "cell_type": "markdown",
      "source": [
        "(v) WAP to add all the values present D"
      ],
      "metadata": {
        "id": "S07jvzdoTQAM"
      }
    },
    {
      "cell_type": "code",
      "source": [
        "sum(D)"
      ],
      "metadata": {
        "id": "AmF3iJkTTTGQ",
        "outputId": "13a9195a-5d9b-44f0-bcbb-170dd70cf51f",
        "colab": {
          "base_uri": "https://localhost:8080/"
        }
      },
      "execution_count": null,
      "outputs": [
        {
          "output_type": "execute_result",
          "data": {
            "text/plain": [
              "15"
            ]
          },
          "metadata": {},
          "execution_count": 37
        }
      ]
    },
    {
      "cell_type": "markdown",
      "source": [
        "(vi) WAP to update the value of 3 to 7.1.\n"
      ],
      "metadata": {
        "id": "DMkyftGUTTWZ"
      }
    },
    {
      "cell_type": "code",
      "source": [
        "D[3]=7.1\n",
        "D"
      ],
      "metadata": {
        "id": "-zBVyKn3TWhI",
        "outputId": "41f778f2-e5aa-4e6a-c9b0-6e7e92c2d858",
        "colab": {
          "base_uri": "https://localhost:8080/"
        }
      },
      "execution_count": null,
      "outputs": [
        {
          "output_type": "execute_result",
          "data": {
            "text/plain": [
              "{1: 5.6, 2: 7.8, 3: 7.1, 4: 8.7, 5: 7.7}"
            ]
          },
          "metadata": {},
          "execution_count": 38
        }
      ]
    },
    {
      "cell_type": "markdown",
      "source": [
        "(vii) WAP to clear the dictionary."
      ],
      "metadata": {
        "id": "xDd9yDbsTXB2"
      }
    },
    {
      "cell_type": "code",
      "source": [
        "D.clear()"
      ],
      "metadata": {
        "id": "fDSkqRF5TZpZ"
      },
      "execution_count": null,
      "outputs": []
    },
    {
      "cell_type": "markdown",
      "source": [
        "Q3. S1 is a set defined as S1= [10, 20, 30, 40, 50, 60].\n",
        "\n",
        "  S2 is a set defined as S2= [40, 50, 60, 70, 80, 90]."
      ],
      "metadata": {
        "id": "ql2p2j4LTaIg"
      }
    },
    {
      "cell_type": "markdown",
      "source": [
        "(i) WAP to add 55 and 66 in Set S1."
      ],
      "metadata": {
        "id": "TrsuXzZNTjIH"
      }
    },
    {
      "cell_type": "code",
      "source": [
        "S1= [10, 20, 30, 40, 50, 60]\n",
        "S2= [40, 50, 60, 70, 80, 90]\n",
        "S1.append(55)\n",
        "S1.append(66)\n",
        "S1\n"
      ],
      "metadata": {
        "id": "43atjoBqTdGE",
        "outputId": "23be12c8-b2dc-4c3b-d378-83694d1c7ba2",
        "colab": {
          "base_uri": "https://localhost:8080/"
        }
      },
      "execution_count": null,
      "outputs": [
        {
          "output_type": "execute_result",
          "data": {
            "text/plain": [
              "[10, 20, 30, 40, 50, 60, 55, 66]"
            ]
          },
          "metadata": {},
          "execution_count": 41
        }
      ]
    },
    {
      "cell_type": "markdown",
      "source": [
        "(ii) WAP to remove 10 and 30 from Set S1."
      ],
      "metadata": {
        "id": "l8rbbvXyT4GC"
      }
    },
    {
      "cell_type": "code",
      "source": [
        "S1= [10, 20, 30, 40, 50, 60]\n",
        "S2= [40, 50, 60, 70, 80, 90]\n",
        "del S1[0]\n",
        "del S1[1]\n",
        "S1"
      ],
      "metadata": {
        "id": "CdNdhS9rUBOQ",
        "colab": {
          "base_uri": "https://localhost:8080/"
        },
        "outputId": "146a890c-d729-461f-d86f-c2ea8b9746ad"
      },
      "execution_count": null,
      "outputs": [
        {
          "output_type": "execute_result",
          "data": {
            "text/plain": [
              "[20, 40, 50, 60]"
            ]
          },
          "metadata": {},
          "execution_count": 2
        }
      ]
    },
    {
      "cell_type": "markdown",
      "source": [
        "(iii) WAP to check whether 40 is present in S1."
      ],
      "metadata": {
        "id": "PZAi8inAUBqW"
      }
    },
    {
      "cell_type": "code",
      "source": [
        "S1= [10, 20, 30, 40, 50, 60]\n",
        "S2= [40, 50, 60, 70, 80, 90]\n",
        "if (40 in S1) == True:\n",
        "\tprint (\"Present\")\n",
        "else:\n",
        "\tprint (\"Not Present\")"
      ],
      "metadata": {
        "id": "ba1x9yVlUXIE",
        "colab": {
          "base_uri": "https://localhost:8080/"
        },
        "outputId": "f825457b-00b1-4344-b50c-9bba753368d9"
      },
      "execution_count": null,
      "outputs": [
        {
          "output_type": "stream",
          "name": "stdout",
          "text": [
            "Present\n"
          ]
        }
      ]
    },
    {
      "cell_type": "markdown",
      "source": [
        "(iv) WAP to find the union between S1 and S2."
      ],
      "metadata": {
        "id": "sTVjwS7IUX1N"
      }
    },
    {
      "cell_type": "code",
      "source": [
        "S1= [10, 20, 30, 40, 50, 60]\n",
        "S2= [40, 50, 60, 70, 80, 90]\n",
        "newList = []\n",
        "newList.extend(S1)\n",
        "for element in S2:\n",
        "    if element not in newList:\n",
        "        newList.append(element)\n",
        "print(\"Union of the lists is:\", newList)"
      ],
      "metadata": {
        "id": "07vfcnmIUbD-",
        "colab": {
          "base_uri": "https://localhost:8080/"
        },
        "outputId": "b35ce8de-012b-4b8d-80c7-263efc36c8d0"
      },
      "execution_count": null,
      "outputs": [
        {
          "output_type": "stream",
          "name": "stdout",
          "text": [
            "Union of the lists is: [10, 20, 30, 40, 50, 60, 70, 80, 90]\n"
          ]
        }
      ]
    },
    {
      "cell_type": "markdown",
      "source": [
        "(v) WAP to find the intersection between S1 and S2.\n"
      ],
      "metadata": {
        "id": "3Yvj0vM0Ubfa"
      }
    },
    {
      "cell_type": "code",
      "source": [
        "S1= [10, 20, 30, 40, 50, 60]\n",
        "S2= [40, 50, 60, 70, 80, 90]\n",
        "newList = []\n",
        "for i in range(len(S1)):\n",
        "  for j in range(len(S2)):\n",
        "    if S1[i]==S2[j]:\n",
        "      newList.append(S1[i])\n",
        "newList"
      ],
      "metadata": {
        "id": "_tla6g9BUerQ",
        "colab": {
          "base_uri": "https://localhost:8080/"
        },
        "outputId": "09a8c3be-b867-4036-e7f5-e246294c3732"
      },
      "execution_count": null,
      "outputs": [
        {
          "output_type": "execute_result",
          "data": {
            "text/plain": [
              "[40, 50, 60]"
            ]
          },
          "metadata": {},
          "execution_count": 5
        }
      ]
    },
    {
      "cell_type": "markdown",
      "source": [
        "(vi) WAP to find the S1 - S2"
      ],
      "metadata": {
        "id": "N0psM-hHUfPR"
      }
    },
    {
      "cell_type": "code",
      "source": [],
      "metadata": {
        "id": "NCAWgT7rUh_O"
      },
      "execution_count": null,
      "outputs": []
    },
    {
      "cell_type": "markdown",
      "source": [
        "Q4. Write the following program."
      ],
      "metadata": {
        "id": "gSpJ6_2jXSUc"
      }
    },
    {
      "cell_type": "markdown",
      "source": [
        "(i) WAP to print 100 random strings whose length between 6 and 8"
      ],
      "metadata": {
        "id": "vhg5JzH5XVy2"
      }
    },
    {
      "cell_type": "code",
      "source": [
        "import string as s\n",
        "import random as r\n",
        "letters=s.ascii_letters\n",
        "for i in range(100):\n",
        "  ran=''.join(r.choice(letters) for i in range(6))\n",
        "  print(ran)"
      ],
      "metadata": {
        "colab": {
          "base_uri": "https://localhost:8080/"
        },
        "id": "bJZvWkEvXR2M",
        "outputId": "08dea6e2-32e4-4dbc-e49e-0e771a94b55e"
      },
      "execution_count": null,
      "outputs": [
        {
          "output_type": "stream",
          "name": "stdout",
          "text": [
            "eynTbW\n",
            "SWEPbX\n",
            "IJGLaQ\n",
            "FlwaeG\n",
            "oxXFfx\n",
            "JQFFIh\n",
            "cbuiNE\n",
            "vtIesI\n",
            "AFTLBL\n",
            "SKPJPH\n",
            "pWnmUz\n",
            "RTLNZy\n",
            "IADtVG\n",
            "vqrhtV\n",
            "nZPpdB\n",
            "cADWzR\n",
            "wMIGsV\n",
            "VLjNAz\n",
            "SCtyHn\n",
            "RVVCSP\n",
            "cayMTb\n",
            "GPnVSj\n",
            "FELCwu\n",
            "agWXpj\n",
            "BgYWaL\n",
            "VnFHYq\n",
            "RIAorp\n",
            "xOzgKh\n",
            "qhhOim\n",
            "kqFGJg\n",
            "vKFUqL\n",
            "ywwbYX\n",
            "aFItLy\n",
            "yKHgwl\n",
            "EHXSyb\n",
            "zlpNFY\n",
            "fpVjan\n",
            "blLDrn\n",
            "rdTVlM\n",
            "IYSGGx\n",
            "ZKFpcg\n",
            "GhJzxf\n",
            "KwllDJ\n",
            "YJOnNX\n",
            "KpMuOg\n",
            "XVDRzc\n",
            "FnyzSF\n",
            "tQpAsY\n",
            "fBKQVG\n",
            "IsgbaJ\n",
            "ZeBVGe\n",
            "QKoFBn\n",
            "GPkBtb\n",
            "jicNlb\n",
            "iuDiAA\n",
            "rAIMBh\n",
            "fAYZGZ\n",
            "qYzZmF\n",
            "ZFQQIA\n",
            "WEqLbE\n",
            "dKtgDe\n",
            "HMNqOD\n",
            "pDZDDf\n",
            "EELjHq\n",
            "KqmEch\n",
            "vCGMIY\n",
            "dCEOqo\n",
            "IpFqpV\n",
            "UTVumt\n",
            "nUjrys\n",
            "hPKBLu\n",
            "qIlNeb\n",
            "fNIvex\n",
            "DrjNET\n",
            "xoRwzq\n",
            "sUtICq\n",
            "YDiKFV\n",
            "FjqFFF\n",
            "esKGeu\n",
            "tbbcEv\n",
            "ntawNX\n",
            "tdjrso\n",
            "KYzJYs\n",
            "EoqcxX\n",
            "ndANng\n",
            "StuUWM\n",
            "ughtKk\n",
            "ttUiQF\n",
            "zVcoZU\n",
            "SHcJfK\n",
            "gwyNol\n",
            "UnJqJs\n",
            "tcDTOa\n",
            "UpJhZP\n",
            "TBEKKV\n",
            "FrgBqe\n",
            "gFNcmC\n",
            "mMLFzo\n",
            "cWwIgU\n",
            "NuEjyW\n"
          ]
        }
      ]
    },
    {
      "cell_type": "markdown",
      "source": [
        "(ii) WAP to print all prime numbers between 600 and 800."
      ],
      "metadata": {
        "id": "a_UJxoYtXZhp"
      }
    },
    {
      "cell_type": "code",
      "source": [
        "import random as r\n",
        "def prime():\n",
        "  for i in range(600,801):\n",
        "    c=0\n",
        "    for j in range(1,i):\n",
        "      if i%j==0:\n",
        "        c=c+1\n",
        "    if c==1:\n",
        "      print(i)\n",
        "prime()"
      ],
      "metadata": {
        "colab": {
          "base_uri": "https://localhost:8080/"
        },
        "id": "xJjU-bR1XdEv",
        "outputId": "4a0cdcdc-01d0-46c9-d69b-285a5997bf86"
      },
      "execution_count": null,
      "outputs": [
        {
          "output_type": "stream",
          "name": "stdout",
          "text": [
            "601\n",
            "607\n",
            "613\n",
            "617\n",
            "619\n",
            "631\n",
            "641\n",
            "643\n",
            "647\n",
            "653\n",
            "659\n",
            "661\n",
            "673\n",
            "677\n",
            "683\n",
            "691\n",
            "701\n",
            "709\n",
            "719\n",
            "727\n",
            "733\n",
            "739\n",
            "743\n",
            "751\n",
            "757\n",
            "761\n",
            "769\n",
            "773\n",
            "787\n",
            "797\n"
          ]
        }
      ]
    },
    {
      "cell_type": "markdown",
      "source": [
        "(iii) WAP to print all numbers between 100 and 1000 that are divisible by 7 and 9."
      ],
      "metadata": {
        "id": "iPGYLkHkXdcC"
      }
    },
    {
      "cell_type": "code",
      "source": [
        "for i in range(100,1001):\n",
        "  if i%7==0 and i%9==0:\n",
        "    print(i)"
      ],
      "metadata": {
        "colab": {
          "base_uri": "https://localhost:8080/"
        },
        "id": "XBgCFiB6XgrR",
        "outputId": "f19b0ea9-7684-4f54-c477-2e0240912ef3"
      },
      "execution_count": null,
      "outputs": [
        {
          "output_type": "stream",
          "name": "stdout",
          "text": [
            "126\n",
            "189\n",
            "252\n",
            "315\n",
            "378\n",
            "441\n",
            "504\n",
            "567\n",
            "630\n",
            "693\n",
            "756\n",
            "819\n",
            "882\n",
            "945\n"
          ]
        }
      ]
    },
    {
      "cell_type": "markdown",
      "source": [
        "Q5. WAP to create two lists of 10 random numbers between 10 and 30; Find"
      ],
      "metadata": {
        "id": "Xb_ygSZrXhBE"
      }
    },
    {
      "cell_type": "markdown",
      "source": [
        "(i) Common numbers in the two lists"
      ],
      "metadata": {
        "id": "nJLa4sLYXhYW"
      }
    },
    {
      "cell_type": "code",
      "source": [],
      "metadata": {
        "id": "4BQ2lfsUX_5u"
      },
      "execution_count": null,
      "outputs": []
    },
    {
      "cell_type": "markdown",
      "source": [
        "(ii) Unique numbers in both the list"
      ],
      "metadata": {
        "id": "P6WfRjndYAPp"
      }
    },
    {
      "cell_type": "code",
      "source": [],
      "metadata": {
        "id": "lEYHpukkYFAB"
      },
      "execution_count": null,
      "outputs": []
    },
    {
      "cell_type": "markdown",
      "source": [
        "(iii) Minimum in both the list"
      ],
      "metadata": {
        "id": "kAhBmzZZYFcb"
      }
    },
    {
      "cell_type": "code",
      "source": [],
      "metadata": {
        "id": "rl4D0eMgYI8k"
      },
      "execution_count": null,
      "outputs": []
    },
    {
      "cell_type": "markdown",
      "source": [
        "(iv) Maximum in both the list"
      ],
      "metadata": {
        "id": "X8INv6mXYJaq"
      }
    },
    {
      "cell_type": "code",
      "source": [],
      "metadata": {
        "id": "w8h8BrXaYM1X"
      },
      "execution_count": null,
      "outputs": []
    },
    {
      "cell_type": "markdown",
      "source": [
        "Q6. WAP to create a list of 100 random numbers between 100 and 900. Count and print the:"
      ],
      "metadata": {
        "id": "4jwc-6pNZ4qa"
      }
    },
    {
      "cell_type": "markdown",
      "source": [
        "(i) All odd numbers"
      ],
      "metadata": {
        "id": "xbIv82FOeSI6"
      }
    },
    {
      "cell_type": "code",
      "source": [],
      "metadata": {
        "id": "J5L2fufpeRuI"
      },
      "execution_count": null,
      "outputs": []
    },
    {
      "cell_type": "markdown",
      "source": [],
      "metadata": {
        "id": "wBod03En783E"
      }
    },
    {
      "cell_type": "markdown",
      "source": [
        "(ii) All even numbers"
      ],
      "metadata": {
        "id": "EOhTaKIjeWak"
      }
    },
    {
      "cell_type": "code",
      "source": [],
      "metadata": {
        "id": "m6ZFuyereZ6L"
      },
      "execution_count": null,
      "outputs": []
    },
    {
      "cell_type": "markdown",
      "source": [
        "(iii) All prime numbers"
      ],
      "metadata": {
        "id": "6ks2CQgFeafr"
      }
    },
    {
      "cell_type": "code",
      "source": [],
      "metadata": {
        "id": "ZfoF7Knmep1D"
      },
      "execution_count": null,
      "outputs": []
    },
    {
      "cell_type": "markdown",
      "source": [
        "Q7. D is a dictionary defined as D={1:\"One\",2:\"Two\",3:\"Three\",4:\"Four\", 5:\"Five\"}.\n",
        " WAP to read all the keys and values from dictionary and write to the file in the given below format.\n",
        "Key1, Value1\n",
        "Key2, Value2\n",
        "Key3, Value3"
      ],
      "metadata": {
        "id": "qyyM4w51eqZy"
      }
    },
    {
      "cell_type": "code",
      "source": [],
      "metadata": {
        "id": "cDpcFgYte2Rn"
      },
      "execution_count": null,
      "outputs": []
    },
    {
      "cell_type": "markdown",
      "source": [
        "Q8. L is a list defined as L={\"One\",\"Two\",\"Three\",\"Four\",\"Five\"}.\n",
        " WAP to count the length of reach element from a list and write to the file in the given below format:\n",
        "One, 3\n",
        "Two, 3\n",
        "Four, 4"
      ],
      "metadata": {
        "id": "IsZ_K79ce2-z"
      }
    },
    {
      "cell_type": "code",
      "source": [],
      "metadata": {
        "id": "q5JzmC8We6Y1"
      },
      "execution_count": null,
      "outputs": []
    },
    {
      "cell_type": "markdown",
      "source": [
        "Q9. Write to the file 100 random strings whose length between 10 and 15."
      ],
      "metadata": {
        "id": "S1nW_3Ese7vh"
      }
    },
    {
      "cell_type": "code",
      "source": [],
      "metadata": {
        "id": "vRy_FJZ2fAp_"
      },
      "execution_count": null,
      "outputs": []
    },
    {
      "cell_type": "markdown",
      "source": [
        "Q10. Write to the file all prime numbers between 600 and 800"
      ],
      "metadata": {
        "id": "e_fXl_-1fBt4"
      }
    },
    {
      "cell_type": "code",
      "source": [],
      "metadata": {
        "id": "xpoiJwH2fE9Y"
      },
      "execution_count": null,
      "outputs": []
    },
    {
      "cell_type": "markdown",
      "source": [
        "Q11. WAP to calculate the time taken by a program."
      ],
      "metadata": {
        "id": "8XhBJUvNfFdr"
      }
    },
    {
      "cell_type": "code",
      "source": [],
      "metadata": {
        "id": "FPCxRV_xfM2W"
      },
      "execution_count": null,
      "outputs": []
    },
    {
      "cell_type": "markdown",
      "source": [
        "Q12. WAP to sort following number of elements in a list, calculate time taken and plot the graph."
      ],
      "metadata": {
        "id": "9DN6fvmNfRze"
      }
    },
    {
      "cell_type": "code",
      "source": [],
      "metadata": {
        "id": "jKkK9OZlfWBC"
      },
      "execution_count": null,
      "outputs": []
    },
    {
      "cell_type": "markdown",
      "source": [
        "Q13. WAP to create a dictionary of student marks in five subjects and you have to find the student\n",
        " having maximum and minimum average marks."
      ],
      "metadata": {
        "id": "Ch7De8KdfWnC"
      }
    },
    {
      "cell_type": "code",
      "source": [],
      "metadata": {
        "id": "tsTjYxbXfZms"
      },
      "execution_count": null,
      "outputs": []
    }
  ],
  "metadata": {
    "colab": {
      "provenance": [],
      "include_colab_link": true
    },
    "kernelspec": {
      "display_name": "Python 3",
      "name": "python3"
    }
  },
  "nbformat": 4,
  "nbformat_minor": 0
}